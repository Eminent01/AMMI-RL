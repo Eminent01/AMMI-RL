{
  "nbformat": 4,
  "nbformat_minor": 0,
  "metadata": {
    "colab": {
      "provenance": [],
      "authorship_tag": "ABX9TyNu01E85wI4vGJm50IHgn7X",
      "include_colab_link": true
    },
    "kernelspec": {
      "name": "python3",
      "display_name": "Python 3"
    },
    "language_info": {
      "name": "python"
    }
  },
  "cells": [
    {
      "cell_type": "markdown",
      "metadata": {
        "id": "view-in-github",
        "colab_type": "text"
      },
      "source": [
        "<a href=\"https://colab.research.google.com/github/Eminent01/AMMI-RL/blob/main/AMMI_Thesis.ipynb\" target=\"_parent\"><img src=\"https://colab.research.google.com/assets/colab-badge.svg\" alt=\"Open In Colab\"/></a>"
      ]
    },
    {
      "cell_type": "markdown",
      "source": [
        "# Reinforcement Learning for Portfolio Optimization"
      ],
      "metadata": {
        "id": "UjLZtNrmzCy5"
      }
    },
    {
      "cell_type": "code",
      "source": [],
      "metadata": {
        "id": "S_nyYbD3zLCu"
      },
      "execution_count": null,
      "outputs": []
    }
  ]
}